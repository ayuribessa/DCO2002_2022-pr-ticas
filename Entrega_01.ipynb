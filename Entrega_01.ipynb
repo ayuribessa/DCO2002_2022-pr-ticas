{
 "cells": [
  {
   "cell_type": "markdown",
   "metadata": {},
   "source": [
    "# D01 Exercício 01"
   ]
  },
  {
   "cell_type": "code",
   "execution_count": null,
   "metadata": {},
   "outputs": [],
   "source": [
    "''' \n",
    "Beautiful is better than ugly.\n",
    "Explicit is better than implicit.\n",
    "Simple is better than complex.\n",
    "Complex is better than complicated.\n",
    "Flat is better than nested.\n",
    "Sparse is better than dense.\n",
    "Readability counts.\n",
    "Special cases aren't special enough to break the rules.\n",
    "Although practicality beats purity.\n",
    "Errors should never pass silently.\n",
    "Unless explicitly silenced.\n",
    "In the face of ambiguity, refuse the temptation to guess.\n",
    "There should be one-- and preferably only one --obvious way to do it.\n",
    "Although that way may not be obvious at first unless you're Dutch.\n",
    "Now is better than never.\n",
    "Although never is often better than *right* now.\n",
    "If the implementation is hard to explain, it's a bad idea.\n",
    "If the implementation is easy to explain, it may be a good idea.\n",
    "Namespaces are one honking great idea -- let's do more of those!\n",
    "\n",
    "'''"
   ]
  },
  {
   "cell_type": "markdown",
   "metadata": {},
   "source": [
    "# DO1 Exercício 02"
   ]
  },
  {
   "cell_type": "code",
   "execution_count": null,
   "metadata": {},
   "outputs": [],
   "source": [
    "car_model = input('Enter a car model')\n",
    "manufacturing_year = int(input('Enther the year the car was manufactured'))\n",
    "\n",
    "from datetime import date\n",
    "\n",
    "today = date.today()\n",
    "age = today.year - manufacturing_year\n",
    "print(f'The car mode is {car_model} and its age is {age} years')\n"
   ]
  },
  {
   "cell_type": "markdown",
   "metadata": {},
   "source": [
    "# D01 Exercício 03"
   ]
  },
  {
   "cell_type": "code",
   "execution_count": 8,
   "metadata": {},
   "outputs": [
    {
     "name": "stdout",
     "output_type": "stream",
     "text": [
      "Enter a bookname: lotr\n",
      "Enter the book release data: 1972\n",
      "Does the book has 100 pages or more? True or False: True\n",
      "<class 'str'>\n",
      "<class 'int'>\n",
      "<class 'bool'>\n",
      "The book name is lotr, it was release on 1972 and it is True that it has 100 pages or more\n"
     ]
    }
   ],
   "source": [
    "book_name = input('Enter a bookname: ')\n",
    "book_release_date = int(input('Enter the book release data: '))\n",
    "book_has100Pages = bool(input('Does the book has 100 pages or more? True or False: '))\n",
    "\n",
    "print(type(book_name))\n",
    "print(type(book_release_date))\n",
    "print(type(book_has100Pages))\n",
    "\n",
    "print(f'The book name is {book_name}, it was release on {book_release_date} and it is {book_has100Pages} that it has 100 pages or more')\n",
    "\n",
    "\n",
    "\n"
   ]
  },
  {
   "cell_type": "markdown",
   "metadata": {},
   "source": [
    "# D01 Exercício 04"
   ]
  },
  {
   "cell_type": "code",
   "execution_count": 11,
   "metadata": {},
   "outputs": [
    {
     "name": "stdout",
     "output_type": "stream",
     "text": [
      "Is the car moving? True or False True\n",
      "is the car turned on? True or False True\n",
      "Are the lights on? True or False True\n",
      "\n",
      "Is the car moving and turned on? True\n",
      "Is the car turned on and with lights on? True\n",
      "Is the car turned off and moving? False\n"
     ]
    }
   ],
   "source": [
    "is_moving = bool(input('Is the car moving? True or False '))\n",
    "is_turned_on = bool(input('is the car turned on? True or False '))\n",
    "are_lights_on = bool(input('Are the lights on? True or False '))\n",
    "\n",
    "print()\n",
    "print(f'Is the car moving and turned on? {is_moving and is_turned_on}')\n",
    "print(f'Is the car turned on and with lights on? {are_lights_on and is_turned_on}')\n",
    "print(f'Is the car turned off and moving? {is_moving and not is_turned_on}')\n",
    "\n"
   ]
  },
  {
   "cell_type": "markdown",
   "metadata": {},
   "source": [
    "# D01 Exercício 5"
   ]
  },
  {
   "cell_type": "code",
   "execution_count": 13,
   "metadata": {},
   "outputs": [
    {
     "name": "stdout",
     "output_type": "stream",
     "text": [
      "Informe seu pedido, os disponíveis são: ['café', 'capuccino', 'chocolate-quente'] café\n",
      "Foi misturado café,água e açucar \n",
      "\n",
      "Informe seu pedido, os disponíveis são: ['café', 'capuccino', 'chocolate-quente'] capuccino\n",
      "Foi misturado café, água, açucar e leite \n",
      "\n",
      "Informe seu pedido, os disponíveis são: ['café', 'capuccino', 'chocolate-quente'] a\n",
      "Esse pedido não está no menu! Deseja entrar com um novo pedido? yes/no: no\n"
     ]
    }
   ],
   "source": [
    "ingredients = ['café', 'açucar', 'água', 'chocolate', 'leite']\n",
    "menu = ['café', 'capuccino', 'chocolate-quente']\n",
    "reload_menu = 'yes'\n",
    "\n",
    "while(reload_menu == 'yes'):\n",
    "    pedido = input(f'Informe seu pedido, os disponíveis são: {menu} ')\n",
    "    if pedido in menu:\n",
    "        if pedido == 'café':\n",
    "            print('Foi misturado café,água e açucar \\n')\n",
    "        elif pedido =='capuccino':\n",
    "            print('Foi misturado café, água, açucar e leite \\n')\n",
    "        else:\n",
    "            print('Foi misturado café, água, açucar, leite e chocolate \\n')\n",
    "    else:\n",
    "        reload_menu = input('Esse pedido não está no menu! Deseja entrar com um novo pedido? yes/no: ')\n",
    "\n"
   ]
  },
  {
   "cell_type": "markdown",
   "metadata": {},
   "source": [
    "# D02 Exercício 01"
   ]
  },
  {
   "cell_type": "code",
   "execution_count": 8,
   "metadata": {},
   "outputs": [
    {
     "name": "stdout",
     "output_type": "stream",
     "text": [
      "Tabuada de 1: \n",
      "\n",
      "1 * 0 = 0\n",
      "1 * 1 = 1\n",
      "1 * 2 = 2\n",
      "1 * 3 = 3\n",
      "1 * 4 = 4\n",
      "1 * 5 = 5\n",
      "1 * 6 = 6\n",
      "1 * 7 = 7\n",
      "1 * 8 = 8\n",
      "1 * 9 = 9\n",
      "\n",
      "Tabuada de 2: \n",
      "\n",
      "2 * 0 = 0\n",
      "2 * 1 = 2\n",
      "2 * 2 = 4\n",
      "2 * 3 = 6\n",
      "2 * 4 = 8\n",
      "2 * 5 = 10\n",
      "2 * 6 = 12\n",
      "2 * 7 = 14\n",
      "2 * 8 = 16\n",
      "2 * 9 = 18\n",
      "\n",
      "Tabuada de 3: \n",
      "\n",
      "3 * 0 = 0\n",
      "3 * 1 = 3\n",
      "3 * 2 = 6\n",
      "3 * 3 = 9\n",
      "3 * 4 = 12\n",
      "3 * 5 = 15\n",
      "3 * 6 = 18\n",
      "3 * 7 = 21\n",
      "3 * 8 = 24\n",
      "3 * 9 = 27\n",
      "\n",
      "Tabuada de 4: \n",
      "\n",
      "4 * 0 = 0\n",
      "4 * 1 = 4\n",
      "4 * 2 = 8\n",
      "4 * 3 = 12\n",
      "4 * 4 = 16\n",
      "4 * 5 = 20\n",
      "4 * 6 = 24\n",
      "4 * 7 = 28\n",
      "4 * 8 = 32\n",
      "4 * 9 = 36\n",
      "\n",
      "Tabuada de 5: \n",
      "\n",
      "5 * 0 = 0\n",
      "5 * 1 = 5\n",
      "5 * 2 = 10\n",
      "5 * 3 = 15\n",
      "5 * 4 = 20\n",
      "5 * 5 = 25\n",
      "5 * 6 = 30\n",
      "5 * 7 = 35\n",
      "5 * 8 = 40\n",
      "5 * 9 = 45\n",
      "\n",
      "Tabuada de 6: \n",
      "\n",
      "6 * 0 = 0\n",
      "6 * 1 = 6\n",
      "6 * 2 = 12\n",
      "6 * 3 = 18\n",
      "6 * 4 = 24\n",
      "6 * 5 = 30\n",
      "6 * 6 = 36\n",
      "6 * 7 = 42\n",
      "6 * 8 = 48\n",
      "6 * 9 = 54\n",
      "\n",
      "Tabuada de 7: \n",
      "\n",
      "7 * 0 = 0\n",
      "7 * 1 = 7\n",
      "7 * 2 = 14\n",
      "7 * 3 = 21\n",
      "7 * 4 = 28\n",
      "7 * 5 = 35\n",
      "7 * 6 = 42\n",
      "7 * 7 = 49\n",
      "7 * 8 = 56\n",
      "7 * 9 = 63\n",
      "\n",
      "Tabuada de 8: \n",
      "\n",
      "8 * 0 = 0\n",
      "8 * 1 = 8\n",
      "8 * 2 = 16\n",
      "8 * 3 = 24\n",
      "8 * 4 = 32\n",
      "8 * 5 = 40\n",
      "8 * 6 = 48\n",
      "8 * 7 = 56\n",
      "8 * 8 = 64\n",
      "8 * 9 = 72\n",
      "\n",
      "Tabuada de 9: \n",
      "\n",
      "9 * 0 = 0\n",
      "9 * 1 = 9\n",
      "9 * 2 = 18\n",
      "9 * 3 = 27\n",
      "9 * 4 = 36\n",
      "9 * 5 = 45\n",
      "9 * 6 = 54\n",
      "9 * 7 = 63\n",
      "9 * 8 = 72\n",
      "9 * 9 = 81\n",
      "\n"
     ]
    }
   ],
   "source": [
    "for i in range(1,10):\n",
    "    print(f'Tabuada de {i}: \\n')\n",
    "    for j in range(10):\n",
    "        print(f'{i} * {j} = {i*j}')\n",
    "    print()\n",
    "        "
   ]
  },
  {
   "cell_type": "markdown",
   "metadata": {},
   "source": [
    "# D02 Exercício 02"
   ]
  },
  {
   "cell_type": "code",
   "execution_count": 11,
   "metadata": {},
   "outputs": [
    {
     "name": "stdout",
     "output_type": "stream",
     "text": [
      "The minimum value of the array is: -1\n"
     ]
    }
   ],
   "source": [
    "values = [79, 70, 44, 54, 28, 8, 99, 73, 3, 67, 66, 90, 89, 7, 77, 92, 43, 21, 27, 35, 81, 30, 54, 13, 35, 89, 49, 53, 69,  2, -1, 48, 74, 44, 1, 1, 53, 0, 76, 58, 68, 41, 48, 57, 50, 24, 49, 94, 46, 77]\n",
    "values_lenght = len(values)\n",
    "new_min = values[0]\n",
    "\n",
    "\n",
    "for i in range (values_lenght - 1):\n",
    "    current_min = new_min\n",
    "    if(values[i+1] < current_min):\n",
    "        new_min = values[i+1]\n",
    "        \n",
    "print(f'The minimum value of the array is: {new_min}')\n",
    "\n",
    "#Just Confirming\n",
    "if min(values) != new_min:\n",
    "    print('Ops, something is wrong')"
   ]
  },
  {
   "cell_type": "markdown",
   "metadata": {},
   "source": [
    "# D02 Exercício 03"
   ]
  },
  {
   "cell_type": "code",
   "execution_count": 33,
   "metadata": {},
   "outputs": [
    {
     "name": "stdout",
     "output_type": "stream",
     "text": [
      "Enter a integer number:  5\n",
      "fatorial of 5 is 120\n"
     ]
    }
   ],
   "source": [
    "result = 1\n",
    "number = int(input('Enter a integer number:  '))\n",
    "for i in range(number,1,-1):\n",
    "    result *= i\n",
    "print(f'fatorial of {number} is {result}')\n",
    "    \n",
    "    "
   ]
  },
  {
   "cell_type": "markdown",
   "metadata": {},
   "source": [
    "# D02 Exercício 04"
   ]
  },
  {
   "cell_type": "code",
   "execution_count": 5,
   "metadata": {},
   "outputs": [
    {
     "name": "stdout",
     "output_type": "stream",
     "text": [
      "Enter a integer number:  30\n",
      "the number 2 is a prime! \n",
      "\n",
      "the number 3 is a prime! \n",
      "\n",
      "the number 4 is NOT a prime \n",
      "\n",
      "the number 5 is a prime! \n",
      "\n",
      "the number 6 is NOT a prime \n",
      "\n",
      "the number 7 is a prime! \n",
      "\n",
      "the number 8 is NOT a prime \n",
      "\n",
      "the number 9 is NOT a prime \n",
      "\n",
      "the number 10 is NOT a prime \n",
      "\n",
      "the number 11 is a prime! \n",
      "\n",
      "the number 12 is NOT a prime \n",
      "\n",
      "the number 13 is a prime! \n",
      "\n",
      "the number 14 is NOT a prime \n",
      "\n",
      "the number 15 is NOT a prime \n",
      "\n",
      "the number 16 is NOT a prime \n",
      "\n",
      "the number 17 is a prime! \n",
      "\n",
      "the number 18 is NOT a prime \n",
      "\n",
      "the number 19 is a prime! \n",
      "\n",
      "the number 20 is NOT a prime \n",
      "\n",
      "the number 21 is NOT a prime \n",
      "\n",
      "the number 22 is NOT a prime \n",
      "\n",
      "the number 23 is a prime! \n",
      "\n",
      "the number 24 is NOT a prime \n",
      "\n",
      "the number 25 is NOT a prime \n",
      "\n",
      "the number 26 is NOT a prime \n",
      "\n",
      "the number 27 is NOT a prime \n",
      "\n",
      "the number 28 is NOT a prime \n",
      "\n",
      "the number 29 is a prime! \n",
      "\n",
      "the number 30 is NOT a prime \n",
      "\n",
      "[2, 3, 5, 7, 11, 13, 17, 19, 23, 29]\n"
     ]
    }
   ],
   "source": [
    "number = int(input('Enter a integer number:  '))\n",
    "prime_numbers = []\n",
    "for n in range(2,number+1):\n",
    "    divisors = 0\n",
    "    for i in range(2, n):\n",
    "        if n % i == 0:\n",
    "            print(f'the number {n} is NOT a prime \\n')\n",
    "            divisors = 1\n",
    "            break  # Quebra o laço for.\n",
    "    if divisors == 0:\n",
    "        print(f'the number {n} is a prime! \\n')\n",
    "        prime_numbers.append(n)\n",
    "\n",
    "\n",
    "print(prime_numbers)"
   ]
  },
  {
   "cell_type": "markdown",
   "metadata": {},
   "source": [
    "# D02 Exercício 05"
   ]
  },
  {
   "cell_type": "code",
   "execution_count": 6,
   "metadata": {},
   "outputs": [
    {
     "name": "stdout",
     "output_type": "stream",
     "text": [
      "[1, 2, 5, 7, 9, 9, 10, 11, 12, 13, 13, 13, 13, 15, 16, 18, 18, 21, 22, 23, 25, 26, 27, 31, 32, 32, 33, 36, 37, 37, 37, 38, 38, 38, 39, 39, 40, 40, 41, 43, 43, 45, 49, 49, 50, 52, 53, 53, 54, 55, 55, 55, 58, 58, 60, 62, 63, 63, 63, 63, 63, 66, 66, 67, 67, 67, 68, 68, 69, 71, 72, 73, 74, 75, 76, 76, 77, 77, 79, 80, 80, 82, 86, 91, 92, 92, 92, 94, 94, 95, 98, 98, 98, 99, 99, 99, 99, 100, 100, 100]\n"
     ]
    }
   ],
   "source": [
    "some_array = [37, 27, 32, 98, 38, 32, 91, 58, 95, 99, 80, 37, 23, 53, 80, 94, 99, 74, 54, 1, 7, 39, 55, 18, 98, 33, 43, 82, 76, 98, 31, 21, 99, 13, 53, 63, 38, 50, 77, 63, 18, 71, 40, 22, 43, 92, 10, 38, 92, 55, 25, 41, 13, 13, 11, 9, 55, 36, 69, 52, 68, 99, 94, 16, 63, 67, 62, 12, 100, 49, 79, 75, 66, 15, 67, 9, 73, 92, 100, 45, 60, 49, 40, 100, 13, 77, 2, 37, 68, 66, 67, 39, 76, 58, 26, 86, 5, 72, 63, 63]\n",
    "ordered_array = []\n",
    "\n",
    "while(len(some_array) > 0):\n",
    "    new_min = some_array[0]\n",
    "    for i in range ( len(some_array) - 1):\n",
    "        current_min = new_min\n",
    "        if(some_array[i+1] < current_min):\n",
    "            new_min = some_array[i+1]\n",
    "    ordered_array.append(new_min)\n",
    "    some_array.remove(new_min)\n",
    "    \n",
    "print(ordered_array)\n",
    "\n"
   ]
  },
  {
   "cell_type": "markdown",
   "metadata": {},
   "source": [
    "# D02 Exercício 06"
   ]
  },
  {
   "cell_type": "code",
   "execution_count": 20,
   "metadata": {},
   "outputs": [
    {
     "name": "stdout",
     "output_type": "stream",
     "text": [
      "Enter the 1º grade:10\n",
      "Enter the 2º grade:10\n",
      "Enter the 3º grade:10\n",
      "Approved\n"
     ]
    }
   ],
   "source": [
    "def sum_notes(notes):\n",
    "    return sum(notes)\n",
    "\n",
    "notes = []\n",
    "\n",
    "for i in range(3):\n",
    "    note = int(input(f'Enter the {i+1}º grade:'))\n",
    "    notes.append(note)\n",
    "    \n",
    "\n",
    "if sum_notes(notes) >= 21:\n",
    "    print('Approved')\n",
    "elif sum_notes(notes) >= 12 and sum_notes(notes) < 21:\n",
    "    print(\"Recovery \")\n",
    "else:\n",
    "    print('you failed')\n",
    "    \n",
    "    \n",
    "    "
   ]
  },
  {
   "cell_type": "markdown",
   "metadata": {},
   "source": [
    "# D02 Exercício 07"
   ]
  },
  {
   "cell_type": "code",
   "execution_count": 43,
   "metadata": {},
   "outputs": [
    {
     "name": "stdout",
     "output_type": "stream",
     "text": [
      "2.0\n",
      "2.0\n",
      "2.0\n",
      "2.0\n"
     ]
    }
   ],
   "source": [
    "def calc_derivative(f,x):\n",
    "    h = 0.5  \n",
    "    derivative = (f(x + h) - f(x)) / h\n",
    "    return derivative \n",
    "\n",
    "def f(x):\n",
    "    return 2*x + 2\n",
    "\n",
    "A = 0\n",
    "B = 2\n",
    "H = 0.5\n",
    "interval = [i * H for i in range(A,B*2)]\n",
    "for i in interval:\n",
    "    print(calc_derivative(f,i))"
   ]
  },
  {
   "cell_type": "markdown",
   "metadata": {},
   "source": [
    "# D02 Exercício 08\n"
   ]
  },
  {
   "cell_type": "code",
   "execution_count": 47,
   "metadata": {},
   "outputs": [
    {
     "name": "stdout",
     "output_type": "stream",
     "text": [
      "0\n",
      "700\n",
      "200\n",
      "['Deposited 700 from the account', 'withdrew 500 from the account']\n",
      "0\n",
      "You can not withdraw money without money in the account\n",
      "['Deposited 700 from the account', 'withdrew 500 from the account', 'withdrew 200 from the account']\n"
     ]
    }
   ],
   "source": [
    "\n",
    "#O programa bancário deve ser capaz de mostrar o saldo, extrato, realizar saques e depósitos.\n",
    "\n",
    "#Construa uma função chamada depósito para realizar depósitos na conta. \n",
    "def deposit(account, amount):\n",
    "    account['Balance'] += amount\n",
    "    operation = f'Deposited {amount} from the account'\n",
    "    account['Statement'].append(operation)\n",
    "    return account\n",
    "    \n",
    "\n",
    "#Construa uma função chamada saque para realizar retiradas na conta.\n",
    "def withdraw(account, amount):\n",
    "    if(account['Balance'] <= 0):\n",
    "        print(f'You can not withdraw money without money in the account')\n",
    "    else:\n",
    "        account['Balance'] -= amount\n",
    "        operation = f'withdrew {amount} from the account'\n",
    "        account['Statement'].append(operation)\n",
    "        return account\n",
    "\n",
    "def show_statement(account):\n",
    "    print(account['Statement'])\n",
    "    \n",
    "def show_balance(account):\n",
    "    print(account['Balance'])\n",
    "    \n",
    "    \n",
    "some_account = {}\n",
    "some_account['Number']  = 123456\n",
    "some_account['Balance'] = 0\n",
    "some_account['Statement'] = []\n",
    "\n",
    "show_balance(some_account)\n",
    "deposit(some_account,700)\n",
    "show_balance(some_account)\n",
    "withdraw(some_account,500)\n",
    "show_balance(some_account)\n",
    "show_statement(some_account)\n",
    "withdraw(some_account,200)\n",
    "show_balance(some_account)\n",
    "withdraw(some_account,200)\n",
    "show_statement(some_account)\n",
    "\n"
   ]
  },
  {
   "cell_type": "markdown",
   "metadata": {},
   "source": [
    "# D03 Exercício 01"
   ]
  },
  {
   "cell_type": "code",
   "execution_count": 11,
   "metadata": {},
   "outputs": [
    {
     "name": "stdout",
     "output_type": "stream",
     "text": [
      "1.1071487177940904\n",
      "0.7853981633974483\n"
     ]
    }
   ],
   "source": [
    "from cmath import phase\n",
    "\n",
    "class NumerosComplexos:\n",
    "    def __init__(self, parte_real, parte_imaginaria):\n",
    "        self.real = parte_real\n",
    "        self.imagem = parte_imaginaria\n",
    "        \n",
    "    def modulo(self):\n",
    "        return (self.real **2 + self.imagem **2) ** (1/2)\n",
    "    def angulo(self):\n",
    "        return phase(complex(self.real, self.imagem))\n",
    "    \n",
    "numero_complexo_1 = NumerosComplexos(1, 2) \n",
    "print(numero_complexo_1.angulo())\n",
    "numero_complexo_2 = NumerosComplexos(2, 2) \n",
    "print(numero_complexo_2.angulo())\n",
    "\n",
    "\n"
   ]
  },
  {
   "cell_type": "markdown",
   "metadata": {},
   "source": [
    "# D03 Exercício 02"
   ]
  },
  {
   "cell_type": "code",
   "execution_count": 66,
   "metadata": {},
   "outputs": [
    {
     "name": "stdout",
     "output_type": "stream",
     "text": [
      "Name : Ayuri Bessa, id: 12345678, Kind: natural person\n",
      "\n",
      " ___Created current account on bank Banco do Nordeste___ \n",
      "\n",
      "Your balance is 0 \n",
      "\n",
      "-----------Latest Bank Statements--------\n",
      "Deposited 500 to the account\n",
      "withdrew 300 from the account\n",
      "-----------------------------------------\n",
      "You can not withdraw money without money in the account \n",
      "\n",
      "Name : Fernando Torres, id: 87654321, Kind: natural person\n",
      "\n",
      " ___Created current account on bank Banco Safra___ \n",
      "\n",
      "Your balance is 0 \n",
      "\n",
      "You can not withdraw money without money in the account \n",
      "\n",
      "-----------Latest Bank Statements--------\n",
      "Deposited 1000 to the account\n",
      "withdrew 200 from the account\n",
      "withdrew 200 from the account\n",
      "withdrew 300 from the account\n",
      "-----------------------------------------\n"
     ]
    }
   ],
   "source": [
    "class BankAccount:\n",
    "    kinds = ['savings', 'current']        \n",
    "    def __init__(self, kind, owner, bank_name):\n",
    "        self.owner = owner\n",
    "        self.bank_name = bank_name\n",
    "        self.balance = 0\n",
    "        self.statements = []\n",
    "        if kind not in BankAccount.kinds:\n",
    "            print('Our Bank does not work with that kind of Account, Only with current and savings\\n') \n",
    "        else:\n",
    "            self.kind = kind\n",
    "            print(f' ___Created {self.kind} account on bank {self.bank_name}___ \\n')\n",
    "            \n",
    "    def closeAccount(self,account):\n",
    "        pass\n",
    "    \n",
    "    def deposit(self, amount):\n",
    "        self.balance += amount\n",
    "        operation = f'Deposited {amount} to the account'\n",
    "        self.statements.append(operation)\n",
    "\n",
    "    def withdraw(self, amount):\n",
    "        if(self.balance == 0 or self.balance < amount):\n",
    "            print(f'You can not withdraw money without money in the account \\n')\n",
    "        else:\n",
    "            self.balance -= amount\n",
    "            operation = f'withdrew {amount} from the account'\n",
    "            self.statements.append(operation)\n",
    "\n",
    "    def show_statement(self):\n",
    "        print('-----------Latest Bank Statements--------')\n",
    "        for item in self.statements:\n",
    "            print(item)\n",
    "        print('-----------------------------------------')\n",
    "\n",
    "    def show_balance(self):\n",
    "        print(f'Your balance is {self.balance} \\n')\n",
    "        \n",
    "\n",
    "class Client:\n",
    "    def __init__(self,name,uniq_id,kind):\n",
    "        self.name = name\n",
    "        self.uniq_id = uniq_id       \n",
    "        kinds = ['natural person', 'juridical person']\n",
    "        if kind not in kinds:\n",
    "            print('natural person or juridical person?')\n",
    "        else:\n",
    "            self.kind = kind\n",
    "            \n",
    "    def show_info(self):\n",
    "        print(f'Name : {self.name}, id: {self.uniq_id}, Kind: {self.kind}\\n')\n",
    "\n",
    "#cliente 1        \n",
    "client_1 = Client('Ayuri Bessa',12345678,'natural person')\n",
    "client_1.show_info()\n",
    "\n",
    "client_1_account = BankAccount('current',client_1,'Banco do Nordeste')\n",
    "client_1_account.show_balance()\n",
    "\n",
    "client_1_account.deposit(500)\n",
    "client_1_account.withdraw(300)\n",
    "client_1_account.show_statement()\n",
    "client_1_account.withdraw(800)\n",
    "\n",
    "#cliente 2\n",
    "client_2 = Client('Fernando Torres',87654321,'natural person')\n",
    "client_2.show_info()\n",
    "\n",
    "client_2_account = BankAccount('current',client_2,'Banco Safra')\n",
    "client_2_account.show_balance()\n",
    "\n",
    "client_2_account.deposit(1000)\n",
    "client_2_account.withdraw(200)\n",
    "client_2_account.withdraw(200)\n",
    "client_2_account.withdraw(700)\n",
    "client_2_account.withdraw(300)\n",
    "client_2_account.show_statement()\n",
    "\n",
    "\n"
   ]
  },
  {
   "cell_type": "markdown",
   "metadata": {},
   "source": [
    "# D04 Exercício 01"
   ]
  },
  {
   "cell_type": "code",
   "execution_count": 10,
   "metadata": {},
   "outputs": [
    {
     "data": {
      "text/html": [
       "<div>\n",
       "<style scoped>\n",
       "    .dataframe tbody tr th:only-of-type {\n",
       "        vertical-align: middle;\n",
       "    }\n",
       "\n",
       "    .dataframe tbody tr th {\n",
       "        vertical-align: top;\n",
       "    }\n",
       "\n",
       "    .dataframe thead th {\n",
       "        text-align: right;\n",
       "    }\n",
       "</style>\n",
       "<table border=\"1\" class=\"dataframe\">\n",
       "  <thead>\n",
       "    <tr style=\"text-align: right;\">\n",
       "      <th></th>\n",
       "      <th>Longitude</th>\n",
       "      <th>Latitude</th>\n",
       "      <th>Speed</th>\n",
       "      <th>CellID</th>\n",
       "      <th>RSRP</th>\n",
       "      <th>DL_bitrate</th>\n",
       "      <th>UL_bitrate</th>\n",
       "      <th>RAWCELLID</th>\n",
       "    </tr>\n",
       "  </thead>\n",
       "  <tbody>\n",
       "    <tr>\n",
       "      <th>count</th>\n",
       "      <td>1098.000000</td>\n",
       "      <td>1098.000000</td>\n",
       "      <td>1098.000000</td>\n",
       "      <td>1098.000000</td>\n",
       "      <td>1098.000000</td>\n",
       "      <td>1098.000000</td>\n",
       "      <td>1098.000000</td>\n",
       "      <td>1.098000e+03</td>\n",
       "    </tr>\n",
       "    <tr>\n",
       "      <th>mean</th>\n",
       "      <td>-8.384792</td>\n",
       "      <td>51.894110</td>\n",
       "      <td>28.250455</td>\n",
       "      <td>1684.679417</td>\n",
       "      <td>-89.476321</td>\n",
       "      <td>1042.908015</td>\n",
       "      <td>15.594718</td>\n",
       "      <td>1.090176e+07</td>\n",
       "    </tr>\n",
       "    <tr>\n",
       "      <th>std</th>\n",
       "      <td>0.017090</td>\n",
       "      <td>0.008575</td>\n",
       "      <td>28.567503</td>\n",
       "      <td>8457.371110</td>\n",
       "      <td>13.771408</td>\n",
       "      <td>5400.022400</td>\n",
       "      <td>72.383730</td>\n",
       "      <td>2.023609e+06</td>\n",
       "    </tr>\n",
       "    <tr>\n",
       "      <th>min</th>\n",
       "      <td>-8.401261</td>\n",
       "      <td>51.884203</td>\n",
       "      <td>0.000000</td>\n",
       "      <td>1.000000</td>\n",
       "      <td>-124.000000</td>\n",
       "      <td>0.000000</td>\n",
       "      <td>0.000000</td>\n",
       "      <td>8.383580e+05</td>\n",
       "    </tr>\n",
       "    <tr>\n",
       "      <th>25%</th>\n",
       "      <td>-8.396781</td>\n",
       "      <td>51.887025</td>\n",
       "      <td>5.000000</td>\n",
       "      <td>11.000000</td>\n",
       "      <td>-100.000000</td>\n",
       "      <td>0.000000</td>\n",
       "      <td>0.000000</td>\n",
       "      <td>1.080500e+07</td>\n",
       "    </tr>\n",
       "    <tr>\n",
       "      <th>50%</th>\n",
       "      <td>-8.392723</td>\n",
       "      <td>51.887334</td>\n",
       "      <td>15.000000</td>\n",
       "      <td>11.000000</td>\n",
       "      <td>-94.000000</td>\n",
       "      <td>0.000000</td>\n",
       "      <td>0.000000</td>\n",
       "      <td>1.080500e+07</td>\n",
       "    </tr>\n",
       "    <tr>\n",
       "      <th>75%</th>\n",
       "      <td>-8.370142</td>\n",
       "      <td>51.903771</td>\n",
       "      <td>44.000000</td>\n",
       "      <td>11.000000</td>\n",
       "      <td>-77.000000</td>\n",
       "      <td>1.000000</td>\n",
       "      <td>2.000000</td>\n",
       "      <td>1.111579e+07</td>\n",
       "    </tr>\n",
       "    <tr>\n",
       "      <th>max</th>\n",
       "      <td>-8.353211</td>\n",
       "      <td>51.907512</td>\n",
       "      <td>91.000000</td>\n",
       "      <td>52041.000000</td>\n",
       "      <td>-52.000000</td>\n",
       "      <td>72426.000000</td>\n",
       "      <td>1226.000000</td>\n",
       "      <td>1.976704e+07</td>\n",
       "    </tr>\n",
       "  </tbody>\n",
       "</table>\n",
       "</div>"
      ],
      "text/plain": [
       "         Longitude     Latitude        Speed        CellID         RSRP  \\\n",
       "count  1098.000000  1098.000000  1098.000000   1098.000000  1098.000000   \n",
       "mean     -8.384792    51.894110    28.250455   1684.679417   -89.476321   \n",
       "std       0.017090     0.008575    28.567503   8457.371110    13.771408   \n",
       "min      -8.401261    51.884203     0.000000      1.000000  -124.000000   \n",
       "25%      -8.396781    51.887025     5.000000     11.000000  -100.000000   \n",
       "50%      -8.392723    51.887334    15.000000     11.000000   -94.000000   \n",
       "75%      -8.370142    51.903771    44.000000     11.000000   -77.000000   \n",
       "max      -8.353211    51.907512    91.000000  52041.000000   -52.000000   \n",
       "\n",
       "         DL_bitrate   UL_bitrate     RAWCELLID  \n",
       "count   1098.000000  1098.000000  1.098000e+03  \n",
       "mean    1042.908015    15.594718  1.090176e+07  \n",
       "std     5400.022400    72.383730  2.023609e+06  \n",
       "min        0.000000     0.000000  8.383580e+05  \n",
       "25%        0.000000     0.000000  1.080500e+07  \n",
       "50%        0.000000     0.000000  1.080500e+07  \n",
       "75%        1.000000     2.000000  1.111579e+07  \n",
       "max    72426.000000  1226.000000  1.976704e+07  "
      ]
     },
     "execution_count": 10,
     "metadata": {},
     "output_type": "execute_result"
    }
   ],
   "source": [
    "import pandas as pd\n",
    "\n",
    "data = pd.read_csv('/home/ayuri/Downloads/5G-production-dataset/Netflix/Static/animated-RickandMorty/B_2019.11.23_14.30.10.csv')\n",
    "data.head()\n",
    "\n",
    "data.describe()"
   ]
  },
  {
   "cell_type": "markdown",
   "metadata": {},
   "source": [
    "# D05 - Passo 3 da Prática 01"
   ]
  },
  {
   "cell_type": "code",
   "execution_count": 9,
   "metadata": {},
   "outputs": [
    {
     "name": "stdout",
     "output_type": "stream",
     "text": [
      "Tempo de execução sem laço FOR: 0.003859579000000224\n"
     ]
    },
    {
     "data": {
      "image/png": "[encoded data removed]",
      "text/plain": [
       "<Figure size 288x288 with 2 Axes>"
      ]
     },
     "metadata": {
      "needs_background": "light"
     },
     "output_type": "display_data"
    }
   ],
   "source": [
    "import warnings                        # Método para suprimir os avisos de exceções \n",
    "warnings.filterwarnings('ignore')      # Método para suprimir os avisos de exceções \n",
    "# Ex.: divisões por zero, que neste exemplo, não é um problema.\n",
    "\n",
    "import time                            # Importa a biblioteca para as funções relacionadas a contagem de tempo\n",
    "# Warning for Python version before 3.8: \n",
    "# start_time = time.clock()            # Primeira medição de tempo: inicia a contagem before Python 3.8 version\n",
    "start_time = time.process_time()       # Primeira medição de tempo: inicia a contagem for Python 3.8 version\n",
    "dPasso = 5                             # Resolução do grid: distância entre um passo e outro\n",
    "dDim = 200                             # Dimensão do grid\n",
    "nl = (dDim-2*dPasso)/dPasso + 1        # Número de pontos na medição\n",
    "import numpy as np                     # Importa biblioteca para cálculos numéricos \n",
    "\n",
    "x= np.arange(dPasso,dDim-dPasso,dPasso)\n",
    "y=np.arange(dPasso,dDim-dPasso,dPasso)\n",
    "X,Y = np.meshgrid(x,y)\n",
    "\n",
    "# Matrizes com posição de cada ponto do grid relativa a cada roteador\n",
    "pbs0 = X + 1j*Y - (dDim/2 + 0.8*dDim*1j)\n",
    "pbs1 = X + 1j*Y - (dDim/2 + 0.2*dDim*1j)\n",
    "pbs2 = X + 1j*Y - (dDim*0.8 + 0.5 *dDim*1j)\n",
    "# Cálculo da potência recebida em cada ponto do grid recebida de cada roteador\n",
    "pl0 = 10*np.log10(1/(np.absolute(pbs0)**4)/0.001)\n",
    "pl1 = 10*np.log10(1/(np.absolute(pbs1)**4)/0.001)\n",
    "pl2 = 10*np.log10(1/(np.absolute(pbs2)**4)/0.001)\n",
    "plf = np.maximum(pl0,pl1)\n",
    "plf2 = np.maximum(plf,pl2)\n",
    "\n",
    "\n",
    "# Medição de tempo de execução\n",
    "# stop_time = time.clock()            # Medição de tempo de execução: contagem before Python 3.8 version\n",
    "stop_time = time.process_time()       # Medição de tempo de execução contagem for Python 3.8 version\n",
    "# A criação das matrizes e dos laços são a parte de interesse do algoritmo\n",
    "# por isso a medição se encerra antes de fazermos a plotagem, que é meramente para visualização\n",
    "tempo_de_execucao = stop_time - start_time\n",
    "# Mostra tempo de execução na tela\n",
    "print(\"Tempo de execução sem laço FOR: \"+str(tempo_de_execucao))\n",
    "\n",
    "from matplotlib import pyplot as plt   # Importa pyplot, que possui as funções essenciais para plotagem\n",
    "# plt.scatter(pbs0.real,pbs0.imag)       # Monta o plot do mapa de pontos do reteador 0\n",
    "# plt.title(\"Roteador 0\")                # Configura o título do plot\n",
    "# plt.show()                             # Mostra o plot do mapa de pontos\n",
    "# plt.scatter(pbs1.real,pbs1.imag)       # Monta o plot do mapa de pontos do reteador 1\n",
    "# plt.title(\"Roteador 1\")                # Configura o título do plot\n",
    "# plt.matshow(pl0)                       # Monta mapa de cores (colormap) para potência recebida do roteador 0\n",
    "# plt.grid()                             # Adiciona as linhas horizontais e verticais\n",
    "# plt.colorbar()                         # Adiciona a barra vertical com escala numérica das cores\n",
    "# # Título do mapa de cores (colormap) para potência recebida do roteador 0, incluindo tempo de execução\n",
    "# plt.title(\"Sistema com laço: \"+ str(tempo_de_execucao)+ \" segundos\",y=1.1)\n",
    "# plt.matshow(pl1)                       # Monta mapa de cores (colormap) para potência recebida do roteador 0\n",
    "# plt.grid()                             # Adiciona as linhas horizontais e verticais\n",
    "# plt.colorbar()                         # Adiciona a barra vertical com escala numérica das cores\n",
    "# # Título do mapa de cores (colormap) para potência recebida do roteador 0, incluindo tempo de execução\n",
    "# plt.title(\"Sistema com laço: \"+ str(tempo_de_execucao)+ \" segundos\",y=1.1)\n",
    "# Monta mapa de cores de melhor potência recebida em cada ponto do grid (melhor entre os dois roteadores)\n",
    "plt.matshow(plf2)                 \n",
    "plt.grid()                             # Adiciona as linhas horizontais e verticais\n",
    "plt.colorbar()                         # Adiciona a barra vertical com escala numérica das cores\n",
    "# Título do mapa de melhor potência recebida em cada ponto do grid (melhor entre os dois roteadores)\n",
    "plt.title(\"Sistema sem laço e com 3º roteador\",y=1.1)\n",
    "plt.show()   "
   ]
  },
  {
   "cell_type": "code",
   "execution_count": null,
   "metadata": {},
   "outputs": [],
   "source": []
  }
 ],
 "metadata": {
  "kernelspec": {
   "display_name": "Python 3 (ipykernel)",
   "language": "python",
   "name": "python3"
  },
  "language_info": {
   "codemirror_mode": {
    "name": "ipython",
    "version": 3
   },
   "file_extension": ".py",
   "mimetype": "text/x-python",
   "name": "python",
   "nbconvert_exporter": "python",
   "pygments_lexer": "ipython3",
   "version": "3.8.5"
  }
 },
 "nbformat": 4,
 "nbformat_minor": 2
}
