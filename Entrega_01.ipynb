{
 "cells": [
  {
   "cell_type": "markdown",
   "metadata": {},
   "source": [
    "# D01 Exercício 01"
   ]
  },
  {
   "cell_type": "code",
   "execution_count": null,
   "metadata": {},
   "outputs": [],
   "source": [
    "''' \n",
    "Beautiful is better than ugly.\n",
    "Explicit is better than implicit.\n",
    "Simple is better than complex.\n",
    "Complex is better than complicated.\n",
    "Flat is better than nested.\n",
    "Sparse is better than dense.\n",
    "Readability counts.\n",
    "Special cases aren't special enough to break the rules.\n",
    "Although practicality beats purity.\n",
    "Errors should never pass silently.\n",
    "Unless explicitly silenced.\n",
    "In the face of ambiguity, refuse the temptation to guess.\n",
    "There should be one-- and preferably only one --obvious way to do it.\n",
    "Although that way may not be obvious at first unless you're Dutch.\n",
    "Now is better than never.\n",
    "Although never is often better than *right* now.\n",
    "If the implementation is hard to explain, it's a bad idea.\n",
    "If the implementation is easy to explain, it may be a good idea.\n",
    "Namespaces are one honking great idea -- let's do more of those!\n",
    "\n",
    "'''"
   ]
  },
  {
   "cell_type": "markdown",
   "metadata": {},
   "source": [
    "# DO1 Exercício 02"
   ]
  },
  {
   "cell_type": "code",
   "execution_count": null,
   "metadata": {},
   "outputs": [],
   "source": [
    "car_model = input('Enter a car model')\n",
    "manufacturing_year = int(input('Enther the year the car was manufactured'))\n",
    "\n",
    "from datetime import date\n",
    "\n",
    "today = date.today()\n",
    "age = today.year - manufacturing_year\n",
    "print(f'The car mode is {car_model} and its age is {age} years')\n"
   ]
  },
  {
   "cell_type": "markdown",
   "metadata": {},
   "source": [
    "# D01 Exercício 03"
   ]
  },
  {
   "cell_type": "code",
   "execution_count": 8,
   "metadata": {},
   "outputs": [
    {
     "name": "stdout",
     "output_type": "stream",
     "text": [
      "Enter a bookname: lotr\n",
      "Enter the book release data: 1972\n",
      "Does the book has 100 pages or more? True or False: True\n",
      "<class 'str'>\n",
      "<class 'int'>\n",
      "<class 'bool'>\n",
      "The book name is lotr, it was release on 1972 and it is True that it has 100 pages or more\n"
     ]
    }
   ],
   "source": [
    "book_name = input('Enter a bookname: ')\n",
    "book_release_date = int(input('Enter the book release data: '))\n",
    "book_has100Pages = bool(input('Does the book has 100 pages or more? True or False: '))\n",
    "\n",
    "print(type(book_name))\n",
    "print(type(book_release_date))\n",
    "print(type(book_has100Pages))\n",
    "\n",
    "print(f'The book name is {book_name}, it was release on {book_release_date} and it is {book_has100Pages} that it has 100 pages or more')\n",
    "\n",
    "\n",
    "\n"
   ]
  },
  {
   "cell_type": "markdown",
   "metadata": {},
   "source": [
    "# D01 Exercício 04"
   ]
  },
  {
   "cell_type": "code",
   "execution_count": 11,
   "metadata": {},
   "outputs": [
    {
     "name": "stdout",
     "output_type": "stream",
     "text": [
      "Is the car moving? True or False True\n",
      "is the car turned on? True or False True\n",
      "Are the lights on? True or False True\n",
      "\n",
      "Is the car moving and turned on? True\n",
      "Is the car turned on and with lights on? True\n",
      "Is the car turned off and moving? False\n"
     ]
    }
   ],
   "source": [
    "is_moving = bool(input('Is the car moving? True or False '))\n",
    "is_turned_on = bool(input('is the car turned on? True or False '))\n",
    "are_lights_on = bool(input('Are the lights on? True or False '))\n",
    "\n",
    "print()\n",
    "print(f'Is the car moving and turned on? {is_moving and is_turned_on}')\n",
    "print(f'Is the car turned on and with lights on? {are_lights_on and is_turned_on}')\n",
    "print(f'Is the car turned off and moving? {is_moving and not is_turned_on}')\n",
    "\n"
   ]
  },
  {
   "cell_type": "markdown",
   "metadata": {},
   "source": [
    "# D01 Exercício 5"
   ]
  },
  {
   "cell_type": "code",
   "execution_count": 5,
   "metadata": {},
   "outputs": [
    {
     "name": "stdout",
     "output_type": "stream",
     "text": [
      "Informe seu pedido, o disponíveis são: ['café', 'capuccino', 'chocolate-quente'] café\n",
      "Foi misturado café,água e açucar\n",
      "Informe seu pedido, o disponíveis são: ['café', 'capuccino', 'chocolate-quente'] capuccino\n",
      "Foi misturado café, água, açucar e leite\n",
      "Informe seu pedido, o disponíveis são: ['café', 'capuccino', 'chocolate-quente'] asdsada\n",
      "Esse pedido não está no menu! Deseja entrar com um novo pedido? yes/on: yes\n",
      "Informe seu pedido, o disponíveis são: ['café', 'capuccino', 'chocolate-quente'] café\n",
      "Foi misturado café,água e açucar\n",
      "Informe seu pedido, o disponíveis são: ['café', 'capuccino', 'chocolate-quente'] asdsadasd\n",
      "Esse pedido não está no menu! Deseja entrar com um novo pedido? yes/on: no\n"
     ]
    }
   ],
   "source": [
    "ingredients = ['café', 'açucar', 'água', 'chocolate', 'leite']\n",
    "menu = ['café', 'capuccino', 'chocolate-quente']\n",
    "reload_menu = 'yes'\n",
    "\n",
    "while(reload_menu == 'yes'):\n",
    "    pedido = input(f'Informe seu pedido, o disponíveis são: {menu} ')\n",
    "    if pedido in menu:\n",
    "        if pedido == 'café':\n",
    "            print('Foi misturado café,água e açucar')\n",
    "        elif pedido =='capuccino':\n",
    "            print('Foi misturado café, água, açucar e leite')\n",
    "        else:\n",
    "            print('Foi misturado café, água, açucar, leite e chocolate')\n",
    "    else:\n",
    "        reload_menu = input('Esse pedido não está no menu! Deseja entrar com um novo pedido? yes/no: ')\n",
    "\n"
   ]
  },
  {
   "cell_type": "markdown",
   "metadata": {},
   "source": [
    "# D02 Exercício 01"
   ]
  },
  {
   "cell_type": "code",
   "execution_count": 13,
   "metadata": {},
   "outputs": [
    {
     "name": "stdout",
     "output_type": "stream",
     "text": [
      "Tabuada de 1: \n",
      "1 * 0 = 0\n",
      "1 * 1 = 1\n",
      "1 * 2 = 2\n",
      "1 * 3 = 3\n",
      "1 * 4 = 4\n",
      "1 * 5 = 5\n",
      "1 * 6 = 6\n",
      "1 * 7 = 7\n",
      "1 * 8 = 8\n",
      "1 * 9 = 9\n",
      "Tabuada de 2: \n",
      "2 * 0 = 0\n",
      "2 * 1 = 2\n",
      "2 * 2 = 4\n",
      "2 * 3 = 6\n",
      "2 * 4 = 8\n",
      "2 * 5 = 10\n",
      "2 * 6 = 12\n",
      "2 * 7 = 14\n",
      "2 * 8 = 16\n",
      "2 * 9 = 18\n",
      "Tabuada de 3: \n",
      "3 * 0 = 0\n",
      "3 * 1 = 3\n",
      "3 * 2 = 6\n",
      "3 * 3 = 9\n",
      "3 * 4 = 12\n",
      "3 * 5 = 15\n",
      "3 * 6 = 18\n",
      "3 * 7 = 21\n",
      "3 * 8 = 24\n",
      "3 * 9 = 27\n",
      "Tabuada de 4: \n",
      "4 * 0 = 0\n",
      "4 * 1 = 4\n",
      "4 * 2 = 8\n",
      "4 * 3 = 12\n",
      "4 * 4 = 16\n",
      "4 * 5 = 20\n",
      "4 * 6 = 24\n",
      "4 * 7 = 28\n",
      "4 * 8 = 32\n",
      "4 * 9 = 36\n",
      "Tabuada de 5: \n",
      "5 * 0 = 0\n",
      "5 * 1 = 5\n",
      "5 * 2 = 10\n",
      "5 * 3 = 15\n",
      "5 * 4 = 20\n",
      "5 * 5 = 25\n",
      "5 * 6 = 30\n",
      "5 * 7 = 35\n",
      "5 * 8 = 40\n",
      "5 * 9 = 45\n",
      "Tabuada de 6: \n",
      "6 * 0 = 0\n",
      "6 * 1 = 6\n",
      "6 * 2 = 12\n",
      "6 * 3 = 18\n",
      "6 * 4 = 24\n",
      "6 * 5 = 30\n",
      "6 * 6 = 36\n",
      "6 * 7 = 42\n",
      "6 * 8 = 48\n",
      "6 * 9 = 54\n",
      "Tabuada de 7: \n",
      "7 * 0 = 0\n",
      "7 * 1 = 7\n",
      "7 * 2 = 14\n",
      "7 * 3 = 21\n",
      "7 * 4 = 28\n",
      "7 * 5 = 35\n",
      "7 * 6 = 42\n",
      "7 * 7 = 49\n",
      "7 * 8 = 56\n",
      "7 * 9 = 63\n",
      "Tabuada de 8: \n",
      "8 * 0 = 0\n",
      "8 * 1 = 8\n",
      "8 * 2 = 16\n",
      "8 * 3 = 24\n",
      "8 * 4 = 32\n",
      "8 * 5 = 40\n",
      "8 * 6 = 48\n",
      "8 * 7 = 56\n",
      "8 * 8 = 64\n",
      "8 * 9 = 72\n",
      "Tabuada de 9: \n",
      "9 * 0 = 0\n",
      "9 * 1 = 9\n",
      "9 * 2 = 18\n",
      "9 * 3 = 27\n",
      "9 * 4 = 36\n",
      "9 * 5 = 45\n",
      "9 * 6 = 54\n",
      "9 * 7 = 63\n",
      "9 * 8 = 72\n",
      "9 * 9 = 81\n"
     ]
    }
   ],
   "source": [
    "for i in range(1,10):\n",
    "    print(f'Tabuada de {i}: ')\n",
    "    for j in range(10):\n",
    "        print(f'{i} * {j} = {i*j}')\n",
    "        "
   ]
  },
  {
   "cell_type": "markdown",
   "metadata": {},
   "source": [
    "# D02 Exercício 02"
   ]
  },
  {
   "cell_type": "code",
   "execution_count": 11,
   "metadata": {},
   "outputs": [
    {
     "name": "stdout",
     "output_type": "stream",
     "text": [
      "The minimum value of the array is: -1\n"
     ]
    }
   ],
   "source": [
    "values = [79, 70, 44, 54, 28, 8, 99, 73, 3, 67, 66, 90, 89, 7, 77, 92, 43, 21, 27, 35, 81, 30, 54, 13, 35, 89, 49, 53, 69,  2, -1, 48, 74, 44, 1, 1, 53, 0, 76, 58, 68, 41, 48, 57, 50, 24, 49, 94, 46, 77]\n",
    "values_lenght = len(values)\n",
    "new_min = values[0]\n",
    "\n",
    "\n",
    "for i in range (values_lenght - 1):\n",
    "    current_min = new_min\n",
    "    if(values[i+1] < current_min):\n",
    "        new_min = values[i+1]\n",
    "        \n",
    "print(f'The minimum value of the array is: {new_min}')\n",
    "\n",
    "#Just Confirming\n",
    "if min(values) != new_min:\n",
    "    print('Ops, something is wrong')"
   ]
  },
  {
   "cell_type": "markdown",
   "metadata": {},
   "source": [
    "# D02 Exercício 03"
   ]
  },
  {
   "cell_type": "code",
   "execution_count": 33,
   "metadata": {},
   "outputs": [
    {
     "name": "stdout",
     "output_type": "stream",
     "text": [
      "Enter a integer number:  5\n",
      "fatorial of 5 is 120\n"
     ]
    }
   ],
   "source": [
    "result = 1\n",
    "number = int(input('Enter a integer number:  '))\n",
    "for i in range(number,1,-1):\n",
    "    result *= i\n",
    "print(f'fatorial of {number} is {result}')\n",
    "    \n",
    "    "
   ]
  },
  {
   "cell_type": "code",
   "execution_count": null,
   "metadata": {},
   "outputs": [],
   "source": []
  }
 ],
 "metadata": {
  "kernelspec": {
   "display_name": "Python 3 (ipykernel)",
   "language": "python",
   "name": "python3"
  },
  "language_info": {
   "codemirror_mode": {
    "name": "ipython",
    "version": 3
   },
   "file_extension": ".py",
   "mimetype": "text/x-python",
   "name": "python",
   "nbconvert_exporter": "python",
   "pygments_lexer": "ipython3",
   "version": "3.8.5"
  }
 },
 "nbformat": 4,
 "nbformat_minor": 2
}
