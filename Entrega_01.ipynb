{
 "cells": [
  {
   "cell_type": "markdown",
   "metadata": {},
   "source": [
    "# D01 Exercício 01"
   ]
  },
  {
   "cell_type": "code",
   "execution_count": null,
   "metadata": {},
   "outputs": [],
   "source": [
    "''' \n",
    "Beautiful is better than ugly.\n",
    "Explicit is better than implicit.\n",
    "Simple is better than complex.\n",
    "Complex is better than complicated.\n",
    "Flat is better than nested.\n",
    "Sparse is better than dense.\n",
    "Readability counts.\n",
    "Special cases aren't special enough to break the rules.\n",
    "Although practicality beats purity.\n",
    "Errors should never pass silently.\n",
    "Unless explicitly silenced.\n",
    "In the face of ambiguity, refuse the temptation to guess.\n",
    "There should be one-- and preferably only one --obvious way to do it.\n",
    "Although that way may not be obvious at first unless you're Dutch.\n",
    "Now is better than never.\n",
    "Although never is often better than *right* now.\n",
    "If the implementation is hard to explain, it's a bad idea.\n",
    "If the implementation is easy to explain, it may be a good idea.\n",
    "Namespaces are one honking great idea -- let's do more of those!\n",
    "\n",
    "'''"
   ]
  },
  {
   "cell_type": "markdown",
   "metadata": {},
   "source": [
    "# DO1 Exercício 02"
   ]
  },
  {
   "cell_type": "code",
   "execution_count": null,
   "metadata": {},
   "outputs": [],
   "source": [
    "car_model = input('Enter a car model')\n",
    "manufacturing_year = int(input('Enther the year the car was manufactured'))\n",
    "\n",
    "from datetime import date\n",
    "\n",
    "today = date.today()\n",
    "age = today.year - manufacturing_year\n",
    "print(f'The car mode is {car_model} and its age is {age} years')\n"
   ]
  },
  {
   "cell_type": "markdown",
   "metadata": {},
   "source": [
    "# D01 Exercício 03"
   ]
  },
  {
   "cell_type": "code",
   "execution_count": 8,
   "metadata": {},
   "outputs": [
    {
     "name": "stdout",
     "output_type": "stream",
     "text": [
      "Enter a bookname: lotr\n",
      "Enter the book release data: 1972\n",
      "Does the book has 100 pages or more? True or False: True\n",
      "<class 'str'>\n",
      "<class 'int'>\n",
      "<class 'bool'>\n",
      "The book name is lotr, it was release on 1972 and it is True that it has 100 pages or more\n"
     ]
    }
   ],
   "source": [
    "book_name = input('Enter a bookname: ')\n",
    "book_release_date = int(input('Enter the book release data: '))\n",
    "book_has100Pages = bool(input('Does the book has 100 pages or more? True or False: '))\n",
    "\n",
    "print(type(book_name))\n",
    "print(type(book_release_date))\n",
    "print(type(book_has100Pages))\n",
    "\n",
    "print(f'The book name is {book_name}, it was release on {book_release_date} and it is {book_has100Pages} that it has 100 pages or more')\n",
    "\n",
    "\n",
    "\n"
   ]
  },
  {
   "cell_type": "markdown",
   "metadata": {},
   "source": [
    "# D01 Exercício 04"
   ]
  },
  {
   "cell_type": "code",
   "execution_count": 11,
   "metadata": {},
   "outputs": [
    {
     "name": "stdout",
     "output_type": "stream",
     "text": [
      "Is the car moving? True or False True\n",
      "is the car turned on? True or False True\n",
      "Are the lights on? True or False True\n",
      "\n",
      "Is the car moving and turned on? True\n",
      "Is the car turned on and with lights on? True\n",
      "Is the car turned off and moving? False\n"
     ]
    }
   ],
   "source": [
    "is_moving = bool(input('Is the car moving? True or False '))\n",
    "is_turned_on = bool(input('is the car turned on? True or False '))\n",
    "are_lights_on = bool(input('Are the lights on? True or False '))\n",
    "\n",
    "print()\n",
    "print(f'Is the car moving and turned on? {is_moving and is_turned_on}')\n",
    "print(f'Is the car turned on and with lights on? {are_lights_on and is_turned_on}')\n",
    "print(f'Is the car turned off and moving? {is_moving and not is_turned_on}')\n",
    "\n"
   ]
  },
  {
   "cell_type": "markdown",
   "metadata": {},
   "source": [
    "# D01 Exercício 5"
   ]
  },
  {
   "cell_type": "code",
   "execution_count": 13,
   "metadata": {},
   "outputs": [
    {
     "name": "stdout",
     "output_type": "stream",
     "text": [
      "Informe seu pedido, os disponíveis são: ['café', 'capuccino', 'chocolate-quente'] café\n",
      "Foi misturado café,água e açucar \n",
      "\n",
      "Informe seu pedido, os disponíveis são: ['café', 'capuccino', 'chocolate-quente'] capuccino\n",
      "Foi misturado café, água, açucar e leite \n",
      "\n",
      "Informe seu pedido, os disponíveis são: ['café', 'capuccino', 'chocolate-quente'] a\n",
      "Esse pedido não está no menu! Deseja entrar com um novo pedido? yes/no: no\n"
     ]
    }
   ],
   "source": [
    "ingredients = ['café', 'açucar', 'água', 'chocolate', 'leite']\n",
    "menu = ['café', 'capuccino', 'chocolate-quente']\n",
    "reload_menu = 'yes'\n",
    "\n",
    "while(reload_menu == 'yes'):\n",
    "    pedido = input(f'Informe seu pedido, os disponíveis são: {menu} ')\n",
    "    if pedido in menu:\n",
    "        if pedido == 'café':\n",
    "            print('Foi misturado café,água e açucar \\n')\n",
    "        elif pedido =='capuccino':\n",
    "            print('Foi misturado café, água, açucar e leite \\n')\n",
    "        else:\n",
    "            print('Foi misturado café, água, açucar, leite e chocolate \\n')\n",
    "    else:\n",
    "        reload_menu = input('Esse pedido não está no menu! Deseja entrar com um novo pedido? yes/no: ')\n",
    "\n"
   ]
  },
  {
   "cell_type": "markdown",
   "metadata": {},
   "source": [
    "# D02 Exercício 01"
   ]
  },
  {
   "cell_type": "code",
   "execution_count": 8,
   "metadata": {},
   "outputs": [
    {
     "name": "stdout",
     "output_type": "stream",
     "text": [
      "Tabuada de 1: \n",
      "\n",
      "1 * 0 = 0\n",
      "1 * 1 = 1\n",
      "1 * 2 = 2\n",
      "1 * 3 = 3\n",
      "1 * 4 = 4\n",
      "1 * 5 = 5\n",
      "1 * 6 = 6\n",
      "1 * 7 = 7\n",
      "1 * 8 = 8\n",
      "1 * 9 = 9\n",
      "\n",
      "Tabuada de 2: \n",
      "\n",
      "2 * 0 = 0\n",
      "2 * 1 = 2\n",
      "2 * 2 = 4\n",
      "2 * 3 = 6\n",
      "2 * 4 = 8\n",
      "2 * 5 = 10\n",
      "2 * 6 = 12\n",
      "2 * 7 = 14\n",
      "2 * 8 = 16\n",
      "2 * 9 = 18\n",
      "\n",
      "Tabuada de 3: \n",
      "\n",
      "3 * 0 = 0\n",
      "3 * 1 = 3\n",
      "3 * 2 = 6\n",
      "3 * 3 = 9\n",
      "3 * 4 = 12\n",
      "3 * 5 = 15\n",
      "3 * 6 = 18\n",
      "3 * 7 = 21\n",
      "3 * 8 = 24\n",
      "3 * 9 = 27\n",
      "\n",
      "Tabuada de 4: \n",
      "\n",
      "4 * 0 = 0\n",
      "4 * 1 = 4\n",
      "4 * 2 = 8\n",
      "4 * 3 = 12\n",
      "4 * 4 = 16\n",
      "4 * 5 = 20\n",
      "4 * 6 = 24\n",
      "4 * 7 = 28\n",
      "4 * 8 = 32\n",
      "4 * 9 = 36\n",
      "\n",
      "Tabuada de 5: \n",
      "\n",
      "5 * 0 = 0\n",
      "5 * 1 = 5\n",
      "5 * 2 = 10\n",
      "5 * 3 = 15\n",
      "5 * 4 = 20\n",
      "5 * 5 = 25\n",
      "5 * 6 = 30\n",
      "5 * 7 = 35\n",
      "5 * 8 = 40\n",
      "5 * 9 = 45\n",
      "\n",
      "Tabuada de 6: \n",
      "\n",
      "6 * 0 = 0\n",
      "6 * 1 = 6\n",
      "6 * 2 = 12\n",
      "6 * 3 = 18\n",
      "6 * 4 = 24\n",
      "6 * 5 = 30\n",
      "6 * 6 = 36\n",
      "6 * 7 = 42\n",
      "6 * 8 = 48\n",
      "6 * 9 = 54\n",
      "\n",
      "Tabuada de 7: \n",
      "\n",
      "7 * 0 = 0\n",
      "7 * 1 = 7\n",
      "7 * 2 = 14\n",
      "7 * 3 = 21\n",
      "7 * 4 = 28\n",
      "7 * 5 = 35\n",
      "7 * 6 = 42\n",
      "7 * 7 = 49\n",
      "7 * 8 = 56\n",
      "7 * 9 = 63\n",
      "\n",
      "Tabuada de 8: \n",
      "\n",
      "8 * 0 = 0\n",
      "8 * 1 = 8\n",
      "8 * 2 = 16\n",
      "8 * 3 = 24\n",
      "8 * 4 = 32\n",
      "8 * 5 = 40\n",
      "8 * 6 = 48\n",
      "8 * 7 = 56\n",
      "8 * 8 = 64\n",
      "8 * 9 = 72\n",
      "\n",
      "Tabuada de 9: \n",
      "\n",
      "9 * 0 = 0\n",
      "9 * 1 = 9\n",
      "9 * 2 = 18\n",
      "9 * 3 = 27\n",
      "9 * 4 = 36\n",
      "9 * 5 = 45\n",
      "9 * 6 = 54\n",
      "9 * 7 = 63\n",
      "9 * 8 = 72\n",
      "9 * 9 = 81\n",
      "\n"
     ]
    }
   ],
   "source": [
    "for i in range(1,10):\n",
    "    print(f'Tabuada de {i}: \\n')\n",
    "    for j in range(10):\n",
    "        print(f'{i} * {j} = {i*j}')\n",
    "    print()\n",
    "        "
   ]
  },
  {
   "cell_type": "markdown",
   "metadata": {},
   "source": [
    "# D02 Exercício 02"
   ]
  },
  {
   "cell_type": "code",
   "execution_count": 11,
   "metadata": {},
   "outputs": [
    {
     "name": "stdout",
     "output_type": "stream",
     "text": [
      "The minimum value of the array is: -1\n"
     ]
    }
   ],
   "source": [
    "values = [79, 70, 44, 54, 28, 8, 99, 73, 3, 67, 66, 90, 89, 7, 77, 92, 43, 21, 27, 35, 81, 30, 54, 13, 35, 89, 49, 53, 69,  2, -1, 48, 74, 44, 1, 1, 53, 0, 76, 58, 68, 41, 48, 57, 50, 24, 49, 94, 46, 77]\n",
    "values_lenght = len(values)\n",
    "new_min = values[0]\n",
    "\n",
    "\n",
    "for i in range (values_lenght - 1):\n",
    "    current_min = new_min\n",
    "    if(values[i+1] < current_min):\n",
    "        new_min = values[i+1]\n",
    "        \n",
    "print(f'The minimum value of the array is: {new_min}')\n",
    "\n",
    "#Just Confirming\n",
    "if min(values) != new_min:\n",
    "    print('Ops, something is wrong')"
   ]
  },
  {
   "cell_type": "markdown",
   "metadata": {},
   "source": [
    "# D02 Exercício 03"
   ]
  },
  {
   "cell_type": "code",
   "execution_count": 33,
   "metadata": {},
   "outputs": [
    {
     "name": "stdout",
     "output_type": "stream",
     "text": [
      "Enter a integer number:  5\n",
      "fatorial of 5 is 120\n"
     ]
    }
   ],
   "source": [
    "result = 1\n",
    "number = int(input('Enter a integer number:  '))\n",
    "for i in range(number,1,-1):\n",
    "    result *= i\n",
    "print(f'fatorial of {number} is {result}')\n",
    "    \n",
    "    "
   ]
  },
  {
   "cell_type": "markdown",
   "metadata": {},
   "source": [
    "# D02 Exercício 04"
   ]
  },
  {
   "cell_type": "code",
   "execution_count": 5,
   "metadata": {},
   "outputs": [
    {
     "name": "stdout",
     "output_type": "stream",
     "text": [
      "Enter a integer number:  30\n",
      "the number 2 is a prime! \n",
      "\n",
      "the number 3 is a prime! \n",
      "\n",
      "the number 4 is NOT a prime \n",
      "\n",
      "the number 5 is a prime! \n",
      "\n",
      "the number 6 is NOT a prime \n",
      "\n",
      "the number 7 is a prime! \n",
      "\n",
      "the number 8 is NOT a prime \n",
      "\n",
      "the number 9 is NOT a prime \n",
      "\n",
      "the number 10 is NOT a prime \n",
      "\n",
      "the number 11 is a prime! \n",
      "\n",
      "the number 12 is NOT a prime \n",
      "\n",
      "the number 13 is a prime! \n",
      "\n",
      "the number 14 is NOT a prime \n",
      "\n",
      "the number 15 is NOT a prime \n",
      "\n",
      "the number 16 is NOT a prime \n",
      "\n",
      "the number 17 is a prime! \n",
      "\n",
      "the number 18 is NOT a prime \n",
      "\n",
      "the number 19 is a prime! \n",
      "\n",
      "the number 20 is NOT a prime \n",
      "\n",
      "the number 21 is NOT a prime \n",
      "\n",
      "the number 22 is NOT a prime \n",
      "\n",
      "the number 23 is a prime! \n",
      "\n",
      "the number 24 is NOT a prime \n",
      "\n",
      "the number 25 is NOT a prime \n",
      "\n",
      "the number 26 is NOT a prime \n",
      "\n",
      "the number 27 is NOT a prime \n",
      "\n",
      "the number 28 is NOT a prime \n",
      "\n",
      "the number 29 is a prime! \n",
      "\n",
      "the number 30 is NOT a prime \n",
      "\n",
      "[2, 3, 5, 7, 11, 13, 17, 19, 23, 29]\n"
     ]
    }
   ],
   "source": [
    "number = int(input('Enter a integer number:  '))\n",
    "prime_numbers = []\n",
    "for n in range(2,number+1):\n",
    "    divisors = 0\n",
    "    for i in range(2, n):\n",
    "        if n % i == 0:\n",
    "            print(f'the number {n} is NOT a prime \\n')\n",
    "            divisors = 1\n",
    "            break  # Quebra o laço for.\n",
    "    if divisors == 0:\n",
    "        print(f'the number {n} is a prime! \\n')\n",
    "        prime_numbers.append(n)\n",
    "\n",
    "\n",
    "print(prime_numbers)"
   ]
  },
  {
   "cell_type": "markdown",
   "metadata": {},
   "source": [
    "# D02 Exercício 05"
   ]
  },
  {
   "cell_type": "code",
   "execution_count": 6,
   "metadata": {},
   "outputs": [
    {
     "name": "stdout",
     "output_type": "stream",
     "text": [
      "[1, 2, 5, 7, 9, 9, 10, 11, 12, 13, 13, 13, 13, 15, 16, 18, 18, 21, 22, 23, 25, 26, 27, 31, 32, 32, 33, 36, 37, 37, 37, 38, 38, 38, 39, 39, 40, 40, 41, 43, 43, 45, 49, 49, 50, 52, 53, 53, 54, 55, 55, 55, 58, 58, 60, 62, 63, 63, 63, 63, 63, 66, 66, 67, 67, 67, 68, 68, 69, 71, 72, 73, 74, 75, 76, 76, 77, 77, 79, 80, 80, 82, 86, 91, 92, 92, 92, 94, 94, 95, 98, 98, 98, 99, 99, 99, 99, 100, 100, 100]\n"
     ]
    }
   ],
   "source": [
    "some_array = [37, 27, 32, 98, 38, 32, 91, 58, 95, 99, 80, 37, 23, 53, 80, 94, 99, 74, 54, 1, 7, 39, 55, 18, 98, 33, 43, 82, 76, 98, 31, 21, 99, 13, 53, 63, 38, 50, 77, 63, 18, 71, 40, 22, 43, 92, 10, 38, 92, 55, 25, 41, 13, 13, 11, 9, 55, 36, 69, 52, 68, 99, 94, 16, 63, 67, 62, 12, 100, 49, 79, 75, 66, 15, 67, 9, 73, 92, 100, 45, 60, 49, 40, 100, 13, 77, 2, 37, 68, 66, 67, 39, 76, 58, 26, 86, 5, 72, 63, 63]\n",
    "ordered_array = []\n",
    "\n",
    "while(len(some_array) > 0):\n",
    "    new_min = some_array[0]\n",
    "    for i in range ( len(some_array) - 1):\n",
    "        current_min = new_min\n",
    "        if(some_array[i+1] < current_min):\n",
    "            new_min = some_array[i+1]\n",
    "    ordered_array.append(new_min)\n",
    "    some_array.remove(new_min)\n",
    "    \n",
    "print(ordered_array)\n",
    "\n"
   ]
  },
  {
   "cell_type": "markdown",
   "metadata": {},
   "source": [
    "# D02 Exercício 06"
   ]
  },
  {
   "cell_type": "code",
   "execution_count": 20,
   "metadata": {},
   "outputs": [
    {
     "name": "stdout",
     "output_type": "stream",
     "text": [
      "Enter the 1º grade:10\n",
      "Enter the 2º grade:10\n",
      "Enter the 3º grade:10\n",
      "Approved\n"
     ]
    }
   ],
   "source": [
    "def sum_notes(notes):\n",
    "    return sum(notes)\n",
    "\n",
    "notes = []\n",
    "\n",
    "for i in range(3):\n",
    "    note = int(input(f'Enter the {i+1}º grade:'))\n",
    "    notes.append(note)\n",
    "    \n",
    "\n",
    "if sum_notes(notes) >= 21:\n",
    "    print('Approved')\n",
    "elif sum_notes(notes) >= 12 and sum_notes(notes) < 21:\n",
    "    print(\"Recovery \")\n",
    "else:\n",
    "    print('you failed')\n",
    "    \n",
    "    \n",
    "    "
   ]
  },
  {
   "cell_type": "markdown",
   "metadata": {},
   "source": [
    "# D02 Exercício 07"
   ]
  },
  {
   "cell_type": "code",
   "execution_count": 43,
   "metadata": {},
   "outputs": [
    {
     "name": "stdout",
     "output_type": "stream",
     "text": [
      "2.0\n",
      "2.0\n",
      "2.0\n",
      "2.0\n"
     ]
    }
   ],
   "source": [
    "def calc_derivative(f,x):\n",
    "    h = 0.5  \n",
    "    derivative = (f(x + h) - f(x)) / h\n",
    "    return derivative \n",
    "\n",
    "def f(x):\n",
    "    return 2*x + 2\n",
    "\n",
    "A = 0\n",
    "B = 2\n",
    "H = 0.5\n",
    "interval = [i * H for i in range(A,B*2)]\n",
    "for i in interval:\n",
    "    print(calc_derivative(f,i))"
   ]
  },
  {
   "cell_type": "markdown",
   "metadata": {},
   "source": [
    "# D02 Exercício 08\n"
   ]
  },
  {
   "cell_type": "code",
   "execution_count": 47,
   "metadata": {},
   "outputs": [
    {
     "name": "stdout",
     "output_type": "stream",
     "text": [
      "0\n",
      "700\n",
      "200\n",
      "['Deposited 700 from the account', 'withdrew 500 from the account']\n",
      "0\n",
      "You can not withdraw money without money in the account\n",
      "['Deposited 700 from the account', 'withdrew 500 from the account', 'withdrew 200 from the account']\n"
     ]
    }
   ],
   "source": [
    "\n",
    "#O programa bancário deve ser capaz de mostrar o saldo, extrato, realizar saques e depósitos.\n",
    "\n",
    "#Construa uma função chamada depósito para realizar depósitos na conta. \n",
    "def deposit(account, amount):\n",
    "    account['Balance'] += amount\n",
    "    operation = f'Deposited {amount} from the account'\n",
    "    account['Statement'].append(operation)\n",
    "    return account\n",
    "    \n",
    "\n",
    "#Construa uma função chamada saque para realizar retiradas na conta.\n",
    "def withdraw(account, amount):\n",
    "    if(account['Balance'] <= 0):\n",
    "        print(f'You can not withdraw money without money in the account')\n",
    "    else:\n",
    "        account['Balance'] -= amount\n",
    "        operation = f'withdrew {amount} from the account'\n",
    "        account['Statement'].append(operation)\n",
    "        return account\n",
    "\n",
    "def show_statement(account):\n",
    "    print(account['Statement'])\n",
    "    \n",
    "def show_balance(account):\n",
    "    print(account['Balance'])\n",
    "    \n",
    "    \n",
    "some_account = {}\n",
    "some_account['Number']  = 123456\n",
    "some_account['Balance'] = 0\n",
    "some_account['Statement'] = []\n",
    "\n",
    "show_balance(some_account)\n",
    "deposit(some_account,700)\n",
    "show_balance(some_account)\n",
    "withdraw(some_account,500)\n",
    "show_balance(some_account)\n",
    "show_statement(some_account)\n",
    "withdraw(some_account,200)\n",
    "show_balance(some_account)\n",
    "withdraw(some_account,200)\n",
    "show_statement(some_account)\n",
    "\n"
   ]
  },
  {
   "cell_type": "code",
   "execution_count": null,
   "metadata": {},
   "outputs": [],
   "source": []
  }
 ],
 "metadata": {
  "kernelspec": {
   "display_name": "Python 3 (ipykernel)",
   "language": "python",
   "name": "python3"
  },
  "language_info": {
   "codemirror_mode": {
    "name": "ipython",
    "version": 3
   },
   "file_extension": ".py",
   "mimetype": "text/x-python",
   "name": "python",
   "nbconvert_exporter": "python",
   "pygments_lexer": "ipython3",
   "version": "3.8.5"
  }
 },
 "nbformat": 4,
 "nbformat_minor": 2
}
